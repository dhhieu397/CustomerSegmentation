{
  "nbformat": 4,
  "nbformat_minor": 0,
  "metadata": {
    "colab": {
      "name": "Untitled12.ipynb",
      "provenance": []
    },
    "kernelspec": {
      "name": "python3",
      "display_name": "Python 3"
    },
    "language_info": {
      "name": "python"
    }
  },
  "cells": [
    {
      "cell_type": "code",
      "metadata": {
        "colab": {
          "base_uri": "https://localhost:8080/"
        },
        "id": "dW8wrt_I9d_5",
        "outputId": "b975c400-19b0-43b2-f9bc-e8b2f6a4d945"
      },
      "source": [
        "# Colab connect drive\n",
        "\n",
        "from google.colab import drive\n",
        "drive.mount('/content/gdrive')"
      ],
      "execution_count": 1,
      "outputs": [
        {
          "output_type": "stream",
          "text": [
            "Mounted at /content/gdrive\n"
          ],
          "name": "stdout"
        }
      ]
    },
    {
      "cell_type": "code",
      "metadata": {
        "id": "YRMWOIebB03V"
      },
      "source": [
        "# Import thu vien\n",
        "import pandas as pd\n",
        "import numpy as np\n",
        "import seaborn as sns\n",
        "import matplotlib.pyplot as plt"
      ],
      "execution_count": 2,
      "outputs": []
    },
    {
      "cell_type": "code",
      "metadata": {
        "id": "OhlfeFsxBu_R"
      },
      "source": [
        "# Read data\n",
        "\n",
        "df = pd.read_excel('/content/gdrive/MyDrive/customer_data/data.xlsx')"
      ],
      "execution_count": 3,
      "outputs": []
    },
    {
      "cell_type": "code",
      "metadata": {
        "colab": {
          "base_uri": "https://localhost:8080/",
          "height": 529
        },
        "id": "rJG3kOVmCHMO",
        "outputId": "f6e37bbe-4c93-45a5-b6c5-c0072d374786"
      },
      "source": [
        "# In thu 10 dong du lieu\n",
        "df.head(10)"
      ],
      "execution_count": 4,
      "outputs": [
        {
          "output_type": "execute_result",
          "data": {
            "text/html": [
              "<div>\n",
              "<style scoped>\n",
              "    .dataframe tbody tr th:only-of-type {\n",
              "        vertical-align: middle;\n",
              "    }\n",
              "\n",
              "    .dataframe tbody tr th {\n",
              "        vertical-align: top;\n",
              "    }\n",
              "\n",
              "    .dataframe thead th {\n",
              "        text-align: right;\n",
              "    }\n",
              "</style>\n",
              "<table border=\"1\" class=\"dataframe\">\n",
              "  <thead>\n",
              "    <tr style=\"text-align: right;\">\n",
              "      <th></th>\n",
              "      <th>InvoiceNo</th>\n",
              "      <th>StockCode</th>\n",
              "      <th>Description</th>\n",
              "      <th>Quantity</th>\n",
              "      <th>InvoiceDate</th>\n",
              "      <th>UnitPrice</th>\n",
              "      <th>CustomerID</th>\n",
              "      <th>Country</th>\n",
              "    </tr>\n",
              "  </thead>\n",
              "  <tbody>\n",
              "    <tr>\n",
              "      <th>0</th>\n",
              "      <td>536365</td>\n",
              "      <td>85123A</td>\n",
              "      <td>WHITE HANGING HEART T-LIGHT HOLDER</td>\n",
              "      <td>6</td>\n",
              "      <td>2010-12-01 08:26:00</td>\n",
              "      <td>2.55</td>\n",
              "      <td>17850.0</td>\n",
              "      <td>United Kingdom</td>\n",
              "    </tr>\n",
              "    <tr>\n",
              "      <th>1</th>\n",
              "      <td>536365</td>\n",
              "      <td>71053</td>\n",
              "      <td>WHITE METAL LANTERN</td>\n",
              "      <td>6</td>\n",
              "      <td>2010-12-01 08:26:00</td>\n",
              "      <td>3.39</td>\n",
              "      <td>17850.0</td>\n",
              "      <td>United Kingdom</td>\n",
              "    </tr>\n",
              "    <tr>\n",
              "      <th>2</th>\n",
              "      <td>536365</td>\n",
              "      <td>84406B</td>\n",
              "      <td>CREAM CUPID HEARTS COAT HANGER</td>\n",
              "      <td>8</td>\n",
              "      <td>2010-12-01 08:26:00</td>\n",
              "      <td>2.75</td>\n",
              "      <td>17850.0</td>\n",
              "      <td>United Kingdom</td>\n",
              "    </tr>\n",
              "    <tr>\n",
              "      <th>3</th>\n",
              "      <td>536365</td>\n",
              "      <td>84029G</td>\n",
              "      <td>KNITTED UNION FLAG HOT WATER BOTTLE</td>\n",
              "      <td>6</td>\n",
              "      <td>2010-12-01 08:26:00</td>\n",
              "      <td>3.39</td>\n",
              "      <td>17850.0</td>\n",
              "      <td>United Kingdom</td>\n",
              "    </tr>\n",
              "    <tr>\n",
              "      <th>4</th>\n",
              "      <td>536365</td>\n",
              "      <td>84029E</td>\n",
              "      <td>RED WOOLLY HOTTIE WHITE HEART.</td>\n",
              "      <td>6</td>\n",
              "      <td>2010-12-01 08:26:00</td>\n",
              "      <td>3.39</td>\n",
              "      <td>17850.0</td>\n",
              "      <td>United Kingdom</td>\n",
              "    </tr>\n",
              "    <tr>\n",
              "      <th>5</th>\n",
              "      <td>536365</td>\n",
              "      <td>22752</td>\n",
              "      <td>SET 7 BABUSHKA NESTING BOXES</td>\n",
              "      <td>2</td>\n",
              "      <td>2010-12-01 08:26:00</td>\n",
              "      <td>7.65</td>\n",
              "      <td>17850.0</td>\n",
              "      <td>United Kingdom</td>\n",
              "    </tr>\n",
              "    <tr>\n",
              "      <th>6</th>\n",
              "      <td>536365</td>\n",
              "      <td>21730</td>\n",
              "      <td>GLASS STAR FROSTED T-LIGHT HOLDER</td>\n",
              "      <td>6</td>\n",
              "      <td>2010-12-01 08:26:00</td>\n",
              "      <td>4.25</td>\n",
              "      <td>17850.0</td>\n",
              "      <td>United Kingdom</td>\n",
              "    </tr>\n",
              "    <tr>\n",
              "      <th>7</th>\n",
              "      <td>536366</td>\n",
              "      <td>22633</td>\n",
              "      <td>HAND WARMER UNION JACK</td>\n",
              "      <td>6</td>\n",
              "      <td>2010-12-01 08:28:00</td>\n",
              "      <td>1.85</td>\n",
              "      <td>17850.0</td>\n",
              "      <td>United Kingdom</td>\n",
              "    </tr>\n",
              "    <tr>\n",
              "      <th>8</th>\n",
              "      <td>536366</td>\n",
              "      <td>22632</td>\n",
              "      <td>HAND WARMER RED POLKA DOT</td>\n",
              "      <td>6</td>\n",
              "      <td>2010-12-01 08:28:00</td>\n",
              "      <td>1.85</td>\n",
              "      <td>17850.0</td>\n",
              "      <td>United Kingdom</td>\n",
              "    </tr>\n",
              "    <tr>\n",
              "      <th>9</th>\n",
              "      <td>536367</td>\n",
              "      <td>84879</td>\n",
              "      <td>ASSORTED COLOUR BIRD ORNAMENT</td>\n",
              "      <td>32</td>\n",
              "      <td>2010-12-01 08:34:00</td>\n",
              "      <td>1.69</td>\n",
              "      <td>13047.0</td>\n",
              "      <td>United Kingdom</td>\n",
              "    </tr>\n",
              "  </tbody>\n",
              "</table>\n",
              "</div>"
            ],
            "text/plain": [
              "  InvoiceNo StockCode  ... CustomerID         Country\n",
              "0    536365    85123A  ...    17850.0  United Kingdom\n",
              "1    536365     71053  ...    17850.0  United Kingdom\n",
              "2    536365    84406B  ...    17850.0  United Kingdom\n",
              "3    536365    84029G  ...    17850.0  United Kingdom\n",
              "4    536365    84029E  ...    17850.0  United Kingdom\n",
              "5    536365     22752  ...    17850.0  United Kingdom\n",
              "6    536365     21730  ...    17850.0  United Kingdom\n",
              "7    536366     22633  ...    17850.0  United Kingdom\n",
              "8    536366     22632  ...    17850.0  United Kingdom\n",
              "9    536367     84879  ...    13047.0  United Kingdom\n",
              "\n",
              "[10 rows x 8 columns]"
            ]
          },
          "metadata": {
            "tags": []
          },
          "execution_count": 4
        }
      ]
    },
    {
      "cell_type": "code",
      "metadata": {
        "colab": {
          "base_uri": "https://localhost:8080/"
        },
        "id": "xbjj4EGFCYj5",
        "outputId": "d3ac294b-3303-46b0-c71a-477a37cc5d7e"
      },
      "source": [
        "# Dem thu so luong dong\n",
        "df.count()"
      ],
      "execution_count": 5,
      "outputs": [
        {
          "output_type": "execute_result",
          "data": {
            "text/plain": [
              "InvoiceNo      541909\n",
              "StockCode      541909\n",
              "Description    540455\n",
              "Quantity       541909\n",
              "InvoiceDate    541909\n",
              "UnitPrice      541909\n",
              "CustomerID     406829\n",
              "Country        541909\n",
              "dtype: int64"
            ]
          },
          "metadata": {
            "tags": []
          },
          "execution_count": 5
        }
      ]
    },
    {
      "cell_type": "code",
      "metadata": {
        "colab": {
          "base_uri": "https://localhost:8080/",
          "height": 529
        },
        "id": "41h2doLHCgFN",
        "outputId": "16bd3762-ecdd-4c5a-e62c-9ac6bcbe5559"
      },
      "source": [
        "# Loai bo gia tri nan\n",
        "df_not_nan = df[df['CustomerID'].notna()]\n",
        "df_not_nan = df_not_nan.sample(10000, random_state=42)\n",
        "df_not_nan.head(10)"
      ],
      "execution_count": 6,
      "outputs": [
        {
          "output_type": "execute_result",
          "data": {
            "text/html": [
              "<div>\n",
              "<style scoped>\n",
              "    .dataframe tbody tr th:only-of-type {\n",
              "        vertical-align: middle;\n",
              "    }\n",
              "\n",
              "    .dataframe tbody tr th {\n",
              "        vertical-align: top;\n",
              "    }\n",
              "\n",
              "    .dataframe thead th {\n",
              "        text-align: right;\n",
              "    }\n",
              "</style>\n",
              "<table border=\"1\" class=\"dataframe\">\n",
              "  <thead>\n",
              "    <tr style=\"text-align: right;\">\n",
              "      <th></th>\n",
              "      <th>InvoiceNo</th>\n",
              "      <th>StockCode</th>\n",
              "      <th>Description</th>\n",
              "      <th>Quantity</th>\n",
              "      <th>InvoiceDate</th>\n",
              "      <th>UnitPrice</th>\n",
              "      <th>CustomerID</th>\n",
              "      <th>Country</th>\n",
              "    </tr>\n",
              "  </thead>\n",
              "  <tbody>\n",
              "    <tr>\n",
              "      <th>47912</th>\n",
              "      <td>540456</td>\n",
              "      <td>48185</td>\n",
              "      <td>DOORMAT FAIRY CAKE</td>\n",
              "      <td>2</td>\n",
              "      <td>2011-01-07 12:14:00</td>\n",
              "      <td>7.95</td>\n",
              "      <td>13534.0</td>\n",
              "      <td>United Kingdom</td>\n",
              "    </tr>\n",
              "    <tr>\n",
              "      <th>342630</th>\n",
              "      <td>566891</td>\n",
              "      <td>23013</td>\n",
              "      <td>GLASS APOTHECARY BOTTLE TONIC</td>\n",
              "      <td>4</td>\n",
              "      <td>2011-09-15 13:51:00</td>\n",
              "      <td>3.95</td>\n",
              "      <td>14894.0</td>\n",
              "      <td>United Kingdom</td>\n",
              "    </tr>\n",
              "    <tr>\n",
              "      <th>288183</th>\n",
              "      <td>C562139</td>\n",
              "      <td>21313</td>\n",
              "      <td>GLASS HEART T-LIGHT HOLDER</td>\n",
              "      <td>-4</td>\n",
              "      <td>2011-08-03 10:10:00</td>\n",
              "      <td>0.85</td>\n",
              "      <td>12921.0</td>\n",
              "      <td>United Kingdom</td>\n",
              "    </tr>\n",
              "    <tr>\n",
              "      <th>325368</th>\n",
              "      <td>565438</td>\n",
              "      <td>22382</td>\n",
              "      <td>LUNCH BAG SPACEBOY DESIGN</td>\n",
              "      <td>4</td>\n",
              "      <td>2011-09-04 13:56:00</td>\n",
              "      <td>1.65</td>\n",
              "      <td>17229.0</td>\n",
              "      <td>United Kingdom</td>\n",
              "    </tr>\n",
              "    <tr>\n",
              "      <th>331450</th>\n",
              "      <td>566016</td>\n",
              "      <td>21212</td>\n",
              "      <td>PACK OF 72 RETROSPOT CAKE CASES</td>\n",
              "      <td>24</td>\n",
              "      <td>2011-09-08 12:20:00</td>\n",
              "      <td>0.55</td>\n",
              "      <td>15144.0</td>\n",
              "      <td>United Kingdom</td>\n",
              "    </tr>\n",
              "    <tr>\n",
              "      <th>234751</th>\n",
              "      <td>557598</td>\n",
              "      <td>22558</td>\n",
              "      <td>CLOTHES PEGS RETROSPOT PACK 24</td>\n",
              "      <td>2</td>\n",
              "      <td>2011-06-21 11:33:00</td>\n",
              "      <td>1.65</td>\n",
              "      <td>14667.0</td>\n",
              "      <td>United Kingdom</td>\n",
              "    </tr>\n",
              "    <tr>\n",
              "      <th>283269</th>\n",
              "      <td>561704</td>\n",
              "      <td>21533</td>\n",
              "      <td>RETROSPOT LARGE MILK JUG</td>\n",
              "      <td>1</td>\n",
              "      <td>2011-07-29 11:07:00</td>\n",
              "      <td>4.95</td>\n",
              "      <td>14606.0</td>\n",
              "      <td>United Kingdom</td>\n",
              "    </tr>\n",
              "    <tr>\n",
              "      <th>532936</th>\n",
              "      <td>581001</td>\n",
              "      <td>22726</td>\n",
              "      <td>ALARM CLOCK BAKELIKE GREEN</td>\n",
              "      <td>24</td>\n",
              "      <td>2011-12-07 08:07:00</td>\n",
              "      <td>3.75</td>\n",
              "      <td>12583.0</td>\n",
              "      <td>France</td>\n",
              "    </tr>\n",
              "    <tr>\n",
              "      <th>78561</th>\n",
              "      <td>542890</td>\n",
              "      <td>84865</td>\n",
              "      <td>NEW BAROQUE BLACK PHOTO ALBUM</td>\n",
              "      <td>2</td>\n",
              "      <td>2011-02-01 13:25:00</td>\n",
              "      <td>8.50</td>\n",
              "      <td>15311.0</td>\n",
              "      <td>United Kingdom</td>\n",
              "    </tr>\n",
              "    <tr>\n",
              "      <th>424855</th>\n",
              "      <td>573287</td>\n",
              "      <td>21314</td>\n",
              "      <td>SMALL GLASS HEART TRINKET POT</td>\n",
              "      <td>8</td>\n",
              "      <td>2011-10-28 14:42:00</td>\n",
              "      <td>2.10</td>\n",
              "      <td>14194.0</td>\n",
              "      <td>United Kingdom</td>\n",
              "    </tr>\n",
              "  </tbody>\n",
              "</table>\n",
              "</div>"
            ],
            "text/plain": [
              "       InvoiceNo StockCode  ... CustomerID         Country\n",
              "47912     540456     48185  ...    13534.0  United Kingdom\n",
              "342630    566891     23013  ...    14894.0  United Kingdom\n",
              "288183   C562139     21313  ...    12921.0  United Kingdom\n",
              "325368    565438     22382  ...    17229.0  United Kingdom\n",
              "331450    566016     21212  ...    15144.0  United Kingdom\n",
              "234751    557598     22558  ...    14667.0  United Kingdom\n",
              "283269    561704     21533  ...    14606.0  United Kingdom\n",
              "532936    581001     22726  ...    12583.0          France\n",
              "78561     542890     84865  ...    15311.0  United Kingdom\n",
              "424855    573287     21314  ...    14194.0  United Kingdom\n",
              "\n",
              "[10 rows x 8 columns]"
            ]
          },
          "metadata": {
            "tags": []
          },
          "execution_count": 6
        }
      ]
    },
    {
      "cell_type": "code",
      "metadata": {
        "id": "i5-c1CMVC549"
      },
      "source": [
        "# Tinh toan RFM\n",
        "\n",
        "# -------- Tinh R - Recency\n",
        "\n",
        "# Chuyen tu string -> date\n",
        "df_not_nan['InvoiceDate'] =  pd.to_datetime(df_not_nan['InvoiceDate'], format='%Y-%m-%d %H:%M:%S')\n",
        "\n",
        "# Lay ngay lon nhat trong InvoiceDate + 1\n",
        "import datetime\n",
        "current_date = max(df_not_nan['InvoiceDate']) + datetime.timedelta(days=1)\n",
        "\n",
        "# -------- Tinh M - MoneytaryValue\n",
        "df_not_nan['TotalPay'] = df_not_nan['Quantity'] * df_not_nan['UnitPrice']\n",
        "\n",
        "# Group by CustomerID de tinh R, F, M\n",
        "\n",
        "df_customers = df_not_nan.groupby(['CustomerID']).agg(\n",
        "    {'InvoiceDate': lambda x: (current_date- x.max()).days,\n",
        "     'InvoiceNo':'count',\n",
        "     'TotalPay':'sum'\n",
        "     }\n",
        ")"
      ],
      "execution_count": 11,
      "outputs": []
    },
    {
      "cell_type": "code",
      "metadata": {
        "colab": {
          "base_uri": "https://localhost:8080/",
          "height": 235
        },
        "id": "bEiqrzcTFLsX",
        "outputId": "ba781de6-32a7-447b-f157-7186cdc58d2c"
      },
      "source": [
        "df_customers.head()"
      ],
      "execution_count": 12,
      "outputs": [
        {
          "output_type": "execute_result",
          "data": {
            "text/html": [
              "<div>\n",
              "<style scoped>\n",
              "    .dataframe tbody tr th:only-of-type {\n",
              "        vertical-align: middle;\n",
              "    }\n",
              "\n",
              "    .dataframe tbody tr th {\n",
              "        vertical-align: top;\n",
              "    }\n",
              "\n",
              "    .dataframe thead th {\n",
              "        text-align: right;\n",
              "    }\n",
              "</style>\n",
              "<table border=\"1\" class=\"dataframe\">\n",
              "  <thead>\n",
              "    <tr style=\"text-align: right;\">\n",
              "      <th></th>\n",
              "      <th>InvoiceDate</th>\n",
              "      <th>InvoiceNo</th>\n",
              "      <th>TotalPay</th>\n",
              "    </tr>\n",
              "    <tr>\n",
              "      <th>CustomerID</th>\n",
              "      <th></th>\n",
              "      <th></th>\n",
              "      <th></th>\n",
              "    </tr>\n",
              "  </thead>\n",
              "  <tbody>\n",
              "    <tr>\n",
              "      <th>12347.0</th>\n",
              "      <td>40</td>\n",
              "      <td>5</td>\n",
              "      <td>133.20</td>\n",
              "    </tr>\n",
              "    <tr>\n",
              "      <th>12348.0</th>\n",
              "      <td>249</td>\n",
              "      <td>2</td>\n",
              "      <td>120.88</td>\n",
              "    </tr>\n",
              "    <tr>\n",
              "      <th>12349.0</th>\n",
              "      <td>19</td>\n",
              "      <td>2</td>\n",
              "      <td>312.75</td>\n",
              "    </tr>\n",
              "    <tr>\n",
              "      <th>12352.0</th>\n",
              "      <td>73</td>\n",
              "      <td>5</td>\n",
              "      <td>80.85</td>\n",
              "    </tr>\n",
              "    <tr>\n",
              "      <th>12354.0</th>\n",
              "      <td>233</td>\n",
              "      <td>2</td>\n",
              "      <td>33.30</td>\n",
              "    </tr>\n",
              "  </tbody>\n",
              "</table>\n",
              "</div>"
            ],
            "text/plain": [
              "            InvoiceDate  InvoiceNo  TotalPay\n",
              "CustomerID                                  \n",
              "12347.0              40          5    133.20\n",
              "12348.0             249          2    120.88\n",
              "12349.0              19          2    312.75\n",
              "12352.0              73          5     80.85\n",
              "12354.0             233          2     33.30"
            ]
          },
          "metadata": {
            "tags": []
          },
          "execution_count": 12
        }
      ]
    },
    {
      "cell_type": "code",
      "metadata": {
        "id": "Z5dVDtWeFRGl"
      },
      "source": [
        "df_customers.rename(columns={'InvoiceDate':'Recency','InvoiceNo':'Frequency','TotalPay':'MonetaryValue'}, inplace=True)"
      ],
      "execution_count": 17,
      "outputs": []
    },
    {
      "cell_type": "code",
      "metadata": {
        "colab": {
          "base_uri": "https://localhost:8080/",
          "height": 401
        },
        "id": "SSbWDi88FrPr",
        "outputId": "68391644-906c-41c9-b23d-5b16cef20e85"
      },
      "source": [
        "# Ve phan phoi de kiem tra\n",
        "\n",
        "fig, ax = plt.subplots(1, 3, figsize=(12,4))\n",
        "sns.distplot(df_customers['Recency'], ax = ax[0])\n",
        "sns.distplot(df_customers['Frequency'], ax = ax[1])\n",
        "sns.distplot(df_customers['MonetaryValue'], ax = ax[2])\n",
        "plt.show()"
      ],
      "execution_count": 18,
      "outputs": [
        {
          "output_type": "stream",
          "text": [
            "/usr/local/lib/python3.7/dist-packages/seaborn/distributions.py:2557: FutureWarning: `distplot` is a deprecated function and will be removed in a future version. Please adapt your code to use either `displot` (a figure-level function with similar flexibility) or `histplot` (an axes-level function for histograms).\n",
            "  warnings.warn(msg, FutureWarning)\n",
            "/usr/local/lib/python3.7/dist-packages/seaborn/distributions.py:2557: FutureWarning: `distplot` is a deprecated function and will be removed in a future version. Please adapt your code to use either `displot` (a figure-level function with similar flexibility) or `histplot` (an axes-level function for histograms).\n",
            "  warnings.warn(msg, FutureWarning)\n",
            "/usr/local/lib/python3.7/dist-packages/seaborn/distributions.py:2557: FutureWarning: `distplot` is a deprecated function and will be removed in a future version. Please adapt your code to use either `displot` (a figure-level function with similar flexibility) or `histplot` (an axes-level function for histograms).\n",
            "  warnings.warn(msg, FutureWarning)\n"
          ],
          "name": "stderr"
        },
        {
          "output_type": "display_data",
          "data": {
            "image/png": "[encoded data removed]",
            "text/plain": [
              "<Figure size 864x288 with 3 Axes>"
            ]
          },
          "metadata": {
            "tags": [],
            "needs_background": "light"
          }
        }
      ]
    },
    {
      "cell_type": "code",
      "metadata": {
        "id": "XloxFYd0GcPv"
      },
      "source": [
        "from scipy import stats\n",
        "def analyze_skewness(x):\n",
        "    fig, ax = plt.subplots(2, 2, figsize=(5,5))\n",
        "    sns.distplot(df_customers[x], ax=ax[0,0])\n",
        "    sns.distplot(np.log(df_customers[x]), ax=ax[0,1])\n",
        "    sns.distplot(np.sqrt(df_customers[x]), ax=ax[1,0])\n",
        "    sns.distplot(stats.boxcox(df_customers[x])[0], ax=ax[1,1])\n",
        "    plt.tight_layout()\n",
        "    plt.show()\n",
        "    \n",
        "    print(df_customers[x].skew().round(2))\n",
        "    print(np.log(df_customers[x]).skew().round(2))\n",
        "    print(np.sqrt(df_customers[x]).skew().round(2))\n",
        "    print(pd.Series(stats.boxcox(df_customers[x])[0]).skew().round(2))"
      ],
      "execution_count": 20,
      "outputs": []
    },
    {
      "cell_type": "code",
      "metadata": {
        "id": "_fr29QRHGlPw"
      },
      "source": [
        "analyze_skewness('Frequency')"
      ],
      "execution_count": null,
      "outputs": []
    },
    {
      "cell_type": "code",
      "metadata": {
        "colab": {
          "base_uri": "https://localhost:8080/",
          "height": 235
        },
        "id": "DfHrIOeWHAp1",
        "outputId": "d7c056dc-b05b-42c3-b739-9555324f66c7"
      },
      "source": [
        "# Tien hanh transform du lieu\n",
        "\n",
        "df_customers.head()\n"
      ],
      "execution_count": 24,
      "outputs": [
        {
          "output_type": "execute_result",
          "data": {
            "text/html": [
              "<div>\n",
              "<style scoped>\n",
              "    .dataframe tbody tr th:only-of-type {\n",
              "        vertical-align: middle;\n",
              "    }\n",
              "\n",
              "    .dataframe tbody tr th {\n",
              "        vertical-align: top;\n",
              "    }\n",
              "\n",
              "    .dataframe thead th {\n",
              "        text-align: right;\n",
              "    }\n",
              "</style>\n",
              "<table border=\"1\" class=\"dataframe\">\n",
              "  <thead>\n",
              "    <tr style=\"text-align: right;\">\n",
              "      <th></th>\n",
              "      <th>Recency</th>\n",
              "      <th>Frequency</th>\n",
              "      <th>MonetaryValue</th>\n",
              "    </tr>\n",
              "    <tr>\n",
              "      <th>CustomerID</th>\n",
              "      <th></th>\n",
              "      <th></th>\n",
              "      <th></th>\n",
              "    </tr>\n",
              "  </thead>\n",
              "  <tbody>\n",
              "    <tr>\n",
              "      <th>12347.0</th>\n",
              "      <td>40</td>\n",
              "      <td>5</td>\n",
              "      <td>133.20</td>\n",
              "    </tr>\n",
              "    <tr>\n",
              "      <th>12348.0</th>\n",
              "      <td>249</td>\n",
              "      <td>2</td>\n",
              "      <td>120.88</td>\n",
              "    </tr>\n",
              "    <tr>\n",
              "      <th>12349.0</th>\n",
              "      <td>19</td>\n",
              "      <td>2</td>\n",
              "      <td>312.75</td>\n",
              "    </tr>\n",
              "    <tr>\n",
              "      <th>12352.0</th>\n",
              "      <td>73</td>\n",
              "      <td>5</td>\n",
              "      <td>80.85</td>\n",
              "    </tr>\n",
              "    <tr>\n",
              "      <th>12354.0</th>\n",
              "      <td>233</td>\n",
              "      <td>2</td>\n",
              "      <td>33.30</td>\n",
              "    </tr>\n",
              "  </tbody>\n",
              "</table>\n",
              "</div>"
            ],
            "text/plain": [
              "            Recency  Frequency  MonetaryValue\n",
              "CustomerID                                   \n",
              "12347.0          40          5         133.20\n",
              "12348.0         249          2         120.88\n",
              "12349.0          19          2         312.75\n",
              "12352.0          73          5          80.85\n",
              "12354.0         233          2          33.30"
            ]
          },
          "metadata": {
            "tags": []
          },
          "execution_count": 24
        }
      ]
    },
    {
      "cell_type": "code",
      "metadata": {
        "colab": {
          "base_uri": "https://localhost:8080/",
          "height": 359
        },
        "id": "T1Yjxd02HUuK",
        "outputId": "cbc17dd4-3dd7-40b5-96fd-481a08c78900"
      },
      "source": [
        "df_customers_t = pd.DataFrame()\n",
        "df_customers_t['Recency'] = stats.boxcox(df_customers['Recency'])[0]\n",
        "df_customers_t['Frequency'] = stats.boxcox(df_customers['Frequency'])[0]\n",
        "df_customers_t['MonetaryValue'] = pd.Series(np.cbrt(df_customers['MonetaryValue'])).values\n",
        "df_customers_t.head(10)"
      ],
      "execution_count": 25,
      "outputs": [
        {
          "output_type": "execute_result",
          "data": {
            "text/html": [
              "<div>\n",
              "<style scoped>\n",
              "    .dataframe tbody tr th:only-of-type {\n",
              "        vertical-align: middle;\n",
              "    }\n",
              "\n",
              "    .dataframe tbody tr th {\n",
              "        vertical-align: top;\n",
              "    }\n",
              "\n",
              "    .dataframe thead th {\n",
              "        text-align: right;\n",
              "    }\n",
              "</style>\n",
              "<table border=\"1\" class=\"dataframe\">\n",
              "  <thead>\n",
              "    <tr style=\"text-align: right;\">\n",
              "      <th></th>\n",
              "      <th>Recency</th>\n",
              "      <th>Frequency</th>\n",
              "      <th>MonetaryValue</th>\n",
              "    </tr>\n",
              "  </thead>\n",
              "  <tbody>\n",
              "    <tr>\n",
              "      <th>0</th>\n",
              "      <td>6.152222</td>\n",
              "      <td>1.127547</td>\n",
              "      <td>5.107026</td>\n",
              "    </tr>\n",
              "    <tr>\n",
              "      <th>1</th>\n",
              "      <td>12.180045</td>\n",
              "      <td>0.591193</td>\n",
              "      <td>4.944452</td>\n",
              "    </tr>\n",
              "    <tr>\n",
              "      <th>2</th>\n",
              "      <td>4.402867</td>\n",
              "      <td>0.591193</td>\n",
              "      <td>6.787853</td>\n",
              "    </tr>\n",
              "    <tr>\n",
              "      <th>3</th>\n",
              "      <td>7.832068</td>\n",
              "      <td>1.127547</td>\n",
              "      <td>4.324076</td>\n",
              "    </tr>\n",
              "    <tr>\n",
              "      <th>4</th>\n",
              "      <td>11.907953</td>\n",
              "      <td>0.591193</td>\n",
              "      <td>3.217225</td>\n",
              "    </tr>\n",
              "    <tr>\n",
              "      <th>5</th>\n",
              "      <td>5.741249</td>\n",
              "      <td>1.017445</td>\n",
              "      <td>6.681810</td>\n",
              "    </tr>\n",
              "    <tr>\n",
              "      <th>6</th>\n",
              "      <td>10.240731</td>\n",
              "      <td>0.000000</td>\n",
              "      <td>4.308869</td>\n",
              "    </tr>\n",
              "    <tr>\n",
              "      <th>7</th>\n",
              "      <td>7.158917</td>\n",
              "      <td>0.857267</td>\n",
              "      <td>3.794637</td>\n",
              "    </tr>\n",
              "    <tr>\n",
              "      <th>8</th>\n",
              "      <td>9.225767</td>\n",
              "      <td>0.857267</td>\n",
              "      <td>3.220442</td>\n",
              "    </tr>\n",
              "    <tr>\n",
              "      <th>9</th>\n",
              "      <td>6.460988</td>\n",
              "      <td>0.000000</td>\n",
              "      <td>2.571282</td>\n",
              "    </tr>\n",
              "  </tbody>\n",
              "</table>\n",
              "</div>"
            ],
            "text/plain": [
              "     Recency  Frequency  MonetaryValue\n",
              "0   6.152222   1.127547       5.107026\n",
              "1  12.180045   0.591193       4.944452\n",
              "2   4.402867   0.591193       6.787853\n",
              "3   7.832068   1.127547       4.324076\n",
              "4  11.907953   0.591193       3.217225\n",
              "5   5.741249   1.017445       6.681810\n",
              "6  10.240731   0.000000       4.308869\n",
              "7   7.158917   0.857267       3.794637\n",
              "8   9.225767   0.857267       3.220442\n",
              "9   6.460988   0.000000       2.571282"
            ]
          },
          "metadata": {
            "tags": []
          },
          "execution_count": 25
        }
      ]
    },
    {
      "cell_type": "code",
      "metadata": {
        "colab": {
          "base_uri": "https://localhost:8080/"
        },
        "id": "Ne4QjaSDH4nq",
        "outputId": "e78f9ef8-4e66-4b81-bce0-ca7978a86cdf"
      },
      "source": [
        "# Tien hanh scale du lieu\n",
        "\n",
        "from sklearn.preprocessing import StandardScaler\n",
        "scaler = StandardScaler()\n",
        "scaler.fit(df_customers_t)\n",
        "\n",
        "df_customers_t = scaler.transform(df_customers_t)\n"
      ],
      "execution_count": 27,
      "outputs": [
        {
          "output_type": "execute_result",
          "data": {
            "text/plain": [
              "array([[-0.49379352,  1.01242554,  1.01750301],\n",
              "       [ 1.23294891, -0.01741182,  0.92511465],\n",
              "       [-0.99491738, -0.01741182,  1.97269038],\n",
              "       ...,\n",
              "       [-1.02771206, -0.01741182, -2.83326622],\n",
              "       [-1.77905327,  1.94900123,  0.54365651],\n",
              "       [-0.43980189,  0.80102263,  0.43798027]])"
            ]
          },
          "metadata": {
            "tags": []
          },
          "execution_count": 27
        }
      ]
    },
    {
      "cell_type": "code",
      "metadata": {
        "colab": {
          "base_uri": "https://localhost:8080/",
          "height": 204
        },
        "id": "clI_bLuKIRln",
        "outputId": "bba07cfd-3352-4add-dd42-bff9dd698f43"
      },
      "source": [
        "pd.DataFrame(df_customers_t).head()"
      ],
      "execution_count": 28,
      "outputs": [
        {
          "output_type": "execute_result",
          "data": {
            "text/html": [
              "<div>\n",
              "<style scoped>\n",
              "    .dataframe tbody tr th:only-of-type {\n",
              "        vertical-align: middle;\n",
              "    }\n",
              "\n",
              "    .dataframe tbody tr th {\n",
              "        vertical-align: top;\n",
              "    }\n",
              "\n",
              "    .dataframe thead th {\n",
              "        text-align: right;\n",
              "    }\n",
              "</style>\n",
              "<table border=\"1\" class=\"dataframe\">\n",
              "  <thead>\n",
              "    <tr style=\"text-align: right;\">\n",
              "      <th></th>\n",
              "      <th>0</th>\n",
              "      <th>1</th>\n",
              "      <th>2</th>\n",
              "    </tr>\n",
              "  </thead>\n",
              "  <tbody>\n",
              "    <tr>\n",
              "      <th>0</th>\n",
              "      <td>-0.493794</td>\n",
              "      <td>1.012426</td>\n",
              "      <td>1.017503</td>\n",
              "    </tr>\n",
              "    <tr>\n",
              "      <th>1</th>\n",
              "      <td>1.232949</td>\n",
              "      <td>-0.017412</td>\n",
              "      <td>0.925115</td>\n",
              "    </tr>\n",
              "    <tr>\n",
              "      <th>2</th>\n",
              "      <td>-0.994917</td>\n",
              "      <td>-0.017412</td>\n",
              "      <td>1.972690</td>\n",
              "    </tr>\n",
              "    <tr>\n",
              "      <th>3</th>\n",
              "      <td>-0.012582</td>\n",
              "      <td>1.012426</td>\n",
              "      <td>0.572565</td>\n",
              "    </tr>\n",
              "    <tr>\n",
              "      <th>4</th>\n",
              "      <td>1.155005</td>\n",
              "      <td>-0.017412</td>\n",
              "      <td>-0.056441</td>\n",
              "    </tr>\n",
              "  </tbody>\n",
              "</table>\n",
              "</div>"
            ],
            "text/plain": [
              "          0         1         2\n",
              "0 -0.493794  1.012426  1.017503\n",
              "1  1.232949 -0.017412  0.925115\n",
              "2 -0.994917 -0.017412  1.972690\n",
              "3 -0.012582  1.012426  0.572565\n",
              "4  1.155005 -0.017412 -0.056441"
            ]
          },
          "metadata": {
            "tags": []
          },
          "execution_count": 28
        }
      ]
    },
    {
      "cell_type": "code",
      "metadata": {
        "colab": {
          "base_uri": "https://localhost:8080/",
          "height": 295
        },
        "id": "hDKQV5i8Ia7p",
        "outputId": "20148d05-d061-425f-899e-960334f4874c"
      },
      "source": [
        "# Dua du lieu vao KNN\n",
        "\n",
        "# Chọn số cụm bằng Elbow\n",
        "from sklearn.cluster import KMeans\n",
        "\n",
        "sse = {}\n",
        "for k in range(1, 11):\n",
        "    kmeans = KMeans(n_clusters=k, random_state=42)\n",
        "    kmeans.fit(df_customers_t)\n",
        "    sse[k] = kmeans.inertia_ \n",
        "    \n",
        "plt.title('The Elbow Method')\n",
        "plt.xlabel('k')\n",
        "plt.ylabel('SSE')\n",
        "sns.pointplot(x=list(sse.keys()), y=list(sse.values()))\n",
        "plt.show()"
      ],
      "execution_count": 30,
      "outputs": [
        {
          "output_type": "display_data",
          "data": {
            "image/png": "[encoded data removed]",
            "text/plain": [
              "<Figure size 432x288 with 1 Axes>"
            ]
          },
          "metadata": {
            "tags": [],
            "needs_background": "light"
          }
        }
      ]
    },
    {
      "cell_type": "code",
      "metadata": {
        "colab": {
          "base_uri": "https://localhost:8080/"
        },
        "id": "dv65lLGFI4DY",
        "outputId": "4e283b5f-6e80-403b-cd03-560dad20db90"
      },
      "source": [
        "model = KMeans(n_clusters=3, random_state=42)\n",
        "model.fit(df_customers_t)\n"
      ],
      "execution_count": 32,
      "outputs": [
        {
          "output_type": "execute_result",
          "data": {
            "text/plain": [
              "KMeans(algorithm='auto', copy_x=True, init='k-means++', max_iter=300,\n",
              "       n_clusters=3, n_init=10, n_jobs=None, precompute_distances='auto',\n",
              "       random_state=42, tol=0.0001, verbose=0)"
            ]
          },
          "metadata": {
            "tags": []
          },
          "execution_count": 32
        }
      ]
    },
    {
      "cell_type": "code",
      "metadata": {
        "colab": {
          "base_uri": "https://localhost:8080/",
          "height": 235
        },
        "id": "mtDGbBZiJGJg",
        "outputId": "55b1f4d4-60b5-4baf-f212-766dd080dad2"
      },
      "source": [
        "df_customers['Cluster'] = model.labels_\n",
        "df_customers.head()"
      ],
      "execution_count": 34,
      "outputs": [
        {
          "output_type": "execute_result",
          "data": {
            "text/html": [
              "<div>\n",
              "<style scoped>\n",
              "    .dataframe tbody tr th:only-of-type {\n",
              "        vertical-align: middle;\n",
              "    }\n",
              "\n",
              "    .dataframe tbody tr th {\n",
              "        vertical-align: top;\n",
              "    }\n",
              "\n",
              "    .dataframe thead th {\n",
              "        text-align: right;\n",
              "    }\n",
              "</style>\n",
              "<table border=\"1\" class=\"dataframe\">\n",
              "  <thead>\n",
              "    <tr style=\"text-align: right;\">\n",
              "      <th></th>\n",
              "      <th>Recency</th>\n",
              "      <th>Frequency</th>\n",
              "      <th>MonetaryValue</th>\n",
              "      <th>Cluster</th>\n",
              "    </tr>\n",
              "    <tr>\n",
              "      <th>CustomerID</th>\n",
              "      <th></th>\n",
              "      <th></th>\n",
              "      <th></th>\n",
              "      <th></th>\n",
              "    </tr>\n",
              "  </thead>\n",
              "  <tbody>\n",
              "    <tr>\n",
              "      <th>12347.0</th>\n",
              "      <td>40</td>\n",
              "      <td>5</td>\n",
              "      <td>133.20</td>\n",
              "      <td>2</td>\n",
              "    </tr>\n",
              "    <tr>\n",
              "      <th>12348.0</th>\n",
              "      <td>249</td>\n",
              "      <td>2</td>\n",
              "      <td>120.88</td>\n",
              "      <td>1</td>\n",
              "    </tr>\n",
              "    <tr>\n",
              "      <th>12349.0</th>\n",
              "      <td>19</td>\n",
              "      <td>2</td>\n",
              "      <td>312.75</td>\n",
              "      <td>2</td>\n",
              "    </tr>\n",
              "    <tr>\n",
              "      <th>12352.0</th>\n",
              "      <td>73</td>\n",
              "      <td>5</td>\n",
              "      <td>80.85</td>\n",
              "      <td>2</td>\n",
              "    </tr>\n",
              "    <tr>\n",
              "      <th>12354.0</th>\n",
              "      <td>233</td>\n",
              "      <td>2</td>\n",
              "      <td>33.30</td>\n",
              "      <td>1</td>\n",
              "    </tr>\n",
              "  </tbody>\n",
              "</table>\n",
              "</div>"
            ],
            "text/plain": [
              "            Recency  Frequency  MonetaryValue  Cluster\n",
              "CustomerID                                            \n",
              "12347.0          40          5         133.20        2\n",
              "12348.0         249          2         120.88        1\n",
              "12349.0          19          2         312.75        2\n",
              "12352.0          73          5          80.85        2\n",
              "12354.0         233          2          33.30        1"
            ]
          },
          "metadata": {
            "tags": []
          },
          "execution_count": 34
        }
      ]
    },
    {
      "cell_type": "code",
      "metadata": {
        "colab": {
          "base_uri": "https://localhost:8080/",
          "height": 173
        },
        "id": "cBjBxS8HJT1k",
        "outputId": "8038ee1c-048c-420b-c872-86e29ef9d7e3"
      },
      "source": [
        "df_customers.groupby('Cluster').agg(\n",
        "    {\n",
        "        'Recency':'mean',\n",
        "        'Frequency':'mean',\n",
        "        'MonetaryValue':'mean'\n",
        "    }\n",
        ").round(2)"
      ],
      "execution_count": 36,
      "outputs": [
        {
          "output_type": "execute_result",
          "data": {
            "text/html": [
              "<div>\n",
              "<style scoped>\n",
              "    .dataframe tbody tr th:only-of-type {\n",
              "        vertical-align: middle;\n",
              "    }\n",
              "\n",
              "    .dataframe tbody tr th {\n",
              "        vertical-align: top;\n",
              "    }\n",
              "\n",
              "    .dataframe thead th {\n",
              "        text-align: right;\n",
              "    }\n",
              "</style>\n",
              "<table border=\"1\" class=\"dataframe\">\n",
              "  <thead>\n",
              "    <tr style=\"text-align: right;\">\n",
              "      <th></th>\n",
              "      <th>Recency</th>\n",
              "      <th>Frequency</th>\n",
              "      <th>MonetaryValue</th>\n",
              "    </tr>\n",
              "    <tr>\n",
              "      <th>Cluster</th>\n",
              "      <th></th>\n",
              "      <th></th>\n",
              "      <th></th>\n",
              "    </tr>\n",
              "  </thead>\n",
              "  <tbody>\n",
              "    <tr>\n",
              "      <th>0</th>\n",
              "      <td>47.29</td>\n",
              "      <td>1.61</td>\n",
              "      <td>21.57</td>\n",
              "    </tr>\n",
              "    <tr>\n",
              "      <th>1</th>\n",
              "      <td>226.77</td>\n",
              "      <td>1.64</td>\n",
              "      <td>28.67</td>\n",
              "    </tr>\n",
              "    <tr>\n",
              "      <th>2</th>\n",
              "      <td>46.29</td>\n",
              "      <td>7.72</td>\n",
              "      <td>165.91</td>\n",
              "    </tr>\n",
              "  </tbody>\n",
              "</table>\n",
              "</div>"
            ],
            "text/plain": [
              "         Recency  Frequency  MonetaryValue\n",
              "Cluster                                   \n",
              "0          47.29       1.61          21.57\n",
              "1         226.77       1.64          28.67\n",
              "2          46.29       7.72         165.91"
            ]
          },
          "metadata": {
            "tags": []
          },
          "execution_count": 36
        }
      ]
    }
  ]
}